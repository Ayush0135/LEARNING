{
 "cells": [
  {
   "cell_type": "code",
   "execution_count": null,
   "id": "4f253b17",
   "metadata": {},
   "outputs": [],
   "source": [
    "! pip install  pandas \n",
    "! pip install numpy\n",
    "! pip install matplotlib\n",
    "! pip install seaborn\n",
    "! pip install scikit-learn\n",
    "! pip install  openpyxl"
   ]
  },
  {
   "cell_type": "markdown",
   "id": "c8bd3b8c",
   "metadata": {},
   "source": []
  },
  {
   "cell_type": "code",
   "execution_count": null,
   "id": "7e9e30e0",
   "metadata": {},
   "outputs": [],
   "source": [
    "import pandas as pd\n",
    "import numpy as np\n",
    "import matplotlib.pyplot as plt"
   ]
  },
  {
   "cell_type": "code",
   "execution_count": null,
   "id": "285fa11c",
   "metadata": {},
   "outputs": [],
   "source": [
    "df = pd.read_excel('loan data.xlsx')"
   ]
  },
  {
   "cell_type": "code",
   "execution_count": null,
   "id": "23ef8aa6",
   "metadata": {},
   "outputs": [],
   "source": [
    "df.head()"
   ]
  },
  {
   "cell_type": "code",
   "execution_count": null,
   "id": "36e92d95",
   "metadata": {},
   "outputs": [],
   "source": [
    "df.tail()"
   ]
  },
  {
   "cell_type": "code",
   "execution_count": null,
   "id": "75d30af8",
   "metadata": {},
   "outputs": [],
   "source": [
    "df.shape"
   ]
  },
  {
   "cell_type": "code",
   "execution_count": null,
   "id": "e7c48217",
   "metadata": {},
   "outputs": [],
   "source": [
    "df.isnull()"
   ]
  },
  {
   "cell_type": "code",
   "execution_count": null,
   "id": "79697ed7",
   "metadata": {},
   "outputs": [],
   "source": [
    "df.isnull().sum()"
   ]
  },
  {
   "cell_type": "code",
   "execution_count": null,
   "id": "50780846",
   "metadata": {},
   "outputs": [],
   "source": [
    "df.isnull().sum(). sum()"
   ]
  },
  {
   "cell_type": "code",
   "execution_count": null,
   "id": "34f79fd7",
   "metadata": {},
   "outputs": [],
   "source": [
    "df.isnull().sum(). sum()/df.shape[0]/100 #verage percentage of null values"
   ]
  },
  {
   "cell_type": "code",
   "execution_count": null,
   "id": "ed2504ea",
   "metadata": {},
   "outputs": [],
   "source": [
    "df.isnull().sum(). sum()/df.shape[0]* df.shape[1]/100 # average percentage of null values per column"
   ]
  },
  {
   "cell_type": "code",
   "execution_count": null,
   "id": "9564ec9a",
   "metadata": {},
   "outputs": [],
   "source": [
    "import seaborn as sns\n",
    "import matplotlib.pyplot as plt"
   ]
  },
  {
   "cell_type": "code",
   "execution_count": null,
   "id": "04d7eef8",
   "metadata": {},
   "outputs": [],
   "source": [
    "sns.heatmap(df.isnull(), )"
   ]
  },
  {
   "cell_type": "code",
   "execution_count": null,
   "id": "a24359be",
   "metadata": {},
   "outputs": [],
   "source": [
    "sns.heatmap(df.notnull(), )"
   ]
  },
  {
   "cell_type": "code",
   "execution_count": null,
   "id": "77210487",
   "metadata": {},
   "outputs": [],
   "source": [
    "df.drop(columns=['Loan_ID'], inplace=True) # drop Loan_ID column as it is not useful for analysis"
   ]
  },
  {
   "cell_type": "code",
   "execution_count": null,
   "id": "1a681ccb",
   "metadata": {},
   "outputs": [],
   "source": [
    "df.shape\n",
    "df.isnull().sum()"
   ]
  },
  {
   "cell_type": "code",
   "execution_count": null,
   "id": "ae068d03",
   "metadata": {},
   "outputs": [],
   "source": [
    "sns.heatmap(df.isnull(), cbar=False, cmap='viridis')\n"
   ]
  },
  {
   "cell_type": "code",
   "execution_count": null,
   "id": "f1c73fc5",
   "metadata": {},
   "outputs": [],
   "source": [
    "df.dropna(inplace=True) # drop rows with null values"
   ]
  },
  {
   "cell_type": "code",
   "execution_count": 50,
   "id": "6f71b20d",
   "metadata": {},
   "outputs": [
    {
     "data": {
      "text/plain": [
       "Gender               0\n",
       "Married              0\n",
       "Dependents           0\n",
       "Education            0\n",
       "ApplicantIncome      0\n",
       "CoapplicantIncome    0\n",
       "LoanAmount           0\n",
       "Loan_Amount_Term     0\n",
       "Credit_History       0\n",
       "Property_Area        0\n",
       "Loan_Status          0\n",
       "dtype: int64"
      ]
     },
     "execution_count": 50,
     "metadata": {},
     "output_type": "execute_result"
    }
   ],
   "source": [
    "df.isnull().sum()"
   ]
  },
  {
   "cell_type": "code",
   "execution_count": null,
   "id": "30d1e9e0",
   "metadata": {},
   "outputs": [],
   "source": []
  }
 ],
 "metadata": {
  "kernelspec": {
   "display_name": "Python 3",
   "language": "python",
   "name": "python3"
  },
  "language_info": {
   "codemirror_mode": {
    "name": "ipython",
    "version": 3
   },
   "file_extension": ".py",
   "mimetype": "text/x-python",
   "name": "python",
   "nbconvert_exporter": "python",
   "pygments_lexer": "ipython3",
   "version": "3.11.0"
  }
 },
 "nbformat": 4,
 "nbformat_minor": 5
}
