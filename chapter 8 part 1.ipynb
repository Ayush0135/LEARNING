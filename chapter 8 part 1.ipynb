{
 "cells": [
  {
   "cell_type": "markdown",
   "id": "5630bb9a",
   "metadata": {},
   "source": [
    "Normalization method"
   ]
  }
 ],
 "metadata": {
  "language_info": {
   "name": "python"
  }
 },
 "nbformat": 4,
 "nbformat_minor": 5
}
